{
 "cells": [
  {
   "cell_type": "code",
   "execution_count": 1,
   "metadata": {},
   "outputs": [],
   "source": [
    "import torch"
   ]
  },
  {
   "cell_type": "code",
   "execution_count": 2,
   "metadata": {},
   "outputs": [],
   "source": [
    "# Create an array with empty, values already present in that memory slot will be added\n",
    "x = torch.empty(5, 3)\n",
    "# Create a random array\n",
    "x = torch.rand(5, 3)\n",
    "# Create an array with zeros\n",
    "x = torch.zeros(5, 3, dtype=torch.long)\n",
    "# Create an array with values\n",
    "x = torch.tensor([5.5, 3])\n",
    "# Use an existing array and setup new values in it\n",
    "x = x.new_ones(5, 3, dtype=torch.double)\n",
    "# Override the dtypes\n",
    "x = torch.randn_like(x, dtype=torch.float)\n",
    "# Get size of tensor\n",
    "print x.size()"
   ]
  },
  {
   "cell_type": "code",
   "execution_count": 7,
   "metadata": {},
   "outputs": [
    {
     "name": "stdout",
     "output_type": "stream",
     "text": [
      "tensor([[0.1389, 0.1903, 0.1224],\n",
      "        [0.1639, 0.4152, 0.7548],\n",
      "        [0.1406, 0.3086, 0.0117],\n",
      "        [0.7677, 0.1163, 0.3584],\n",
      "        [0.1861, 0.4324, 0.7825]])\n",
      "tensor([[0.1389, 0.1903, 0.1224],\n",
      "        [0.1639, 0.4152, 0.7548],\n",
      "        [0.1406, 0.3086, 0.0117],\n",
      "        [0.7677, 0.1163, 0.3584],\n",
      "        [0.1861, 0.4324, 0.7825]])\n"
     ]
    },
    {
     "data": {
      "text/plain": [
       "tensor([ 0.8386,  1.1626,  0.2314,  1.0849, -0.2165, -0.7072,  1.6830, -1.8756,\n",
       "        -0.6201, -0.9406, -1.0786,  0.3770,  2.1150, -0.0485,  2.2614, -0.2265])"
      ]
     },
     "execution_count": 7,
     "metadata": {},
     "output_type": "execute_result"
    }
   ],
   "source": [
    "# Operations can be done in two ways\n",
    "y = torch.rand(5,3)\n",
    "print torch.add(x,y)\n",
    "# You can add in place using the post-fix _ after an operator\n",
    "y.add_(x)\n",
    "# the out argument assigns the result of add to the result variable\n",
    "result = torch.empty(5, 3)\n",
    "torch.add(x, y, out=result)\n",
    "print x + y\n",
    "# use the view function to resize a tensor\n",
    "x = torch.randn(4, 4)\n",
    "x.view(16)"
   ]
  },
  {
   "cell_type": "code",
   "execution_count": 8,
   "metadata": {},
   "outputs": [],
   "source": [
    "import torchvision.transforms as transforms"
   ]
  },
  {
   "cell_type": "markdown",
   "metadata": {},
   "source": [
    "The tutorial for using CNN via pytorch\n",
    "https://algorithmia.com/blog/convolutional-neural-nets-in-pytorch"
   ]
  },
  {
   "cell_type": "code",
   "execution_count": 10,
   "metadata": {},
   "outputs": [],
   "source": [
    "from torch.utils.data.sampler import SubsetRandomSampler"
   ]
  },
  {
   "cell_type": "code",
   "execution_count": 11,
   "metadata": {},
   "outputs": [],
   "source": [
    "SubsetRandomSampler?"
   ]
  },
  {
   "cell_type": "code",
   "execution_count": 12,
   "metadata": {},
   "outputs": [],
   "source": [
    "import numpy as np"
   ]
  },
  {
   "cell_type": "code",
   "execution_count": 14,
   "metadata": {},
   "outputs": [
    {
     "data": {
      "text/plain": [
       "array([   0,    1,    2, ..., 4997, 4998, 4999])"
      ]
     },
     "execution_count": 14,
     "metadata": {},
     "output_type": "execute_result"
    }
   ],
   "source": [
    "np.arange(5000, dtype=np.int64)"
   ]
  },
  {
   "cell_type": "code",
   "execution_count": 15,
   "metadata": {},
   "outputs": [],
   "source": [
    "import torch.nn"
   ]
  },
  {
   "cell_type": "code",
   "execution_count": 16,
   "metadata": {},
   "outputs": [],
   "source": [
    "torch.nn.Conv2d?"
   ]
  }
 ],
 "metadata": {
  "kernelspec": {
   "display_name": "Python 2",
   "language": "python",
   "name": "python2"
  },
  "language_info": {
   "codemirror_mode": {
    "name": "ipython",
    "version": 3
   },
   "file_extension": ".py",
   "mimetype": "text/x-python",
   "name": "python",
   "nbconvert_exporter": "python",
   "pygments_lexer": "ipython3",
   "version": "3.7.5"
  }
 },
 "nbformat": 4,
 "nbformat_minor": 2
}
